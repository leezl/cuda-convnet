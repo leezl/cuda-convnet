{
 "metadata": {
  "name": ""
 },
 "nbformat": 3,
 "nbformat_minor": 0,
 "worksheets": [
  {
   "cells": [
    {
     "cell_type": "code",
     "collapsed": false,
     "input": [
      "# takes image_shape, patches, locations\n",
      "    # returns the \"mask\"\n",
      "    def create_label_mask(self, image_shape, data, locs, num_classes):\n",
      "        #\n",
      "        # create voting array for now (x, y, num_classes)\n",
      "        # stores the count of votes for each class (ie how many times was that class the max prob)\n",
      "        imageVote = n.zeros((image_shape[0],image_shape[1], num_classes), dtype=n.single)\n",
      "        print \"imageVote \",imageVote.shape\n",
      "        # counts how many patches have voted at each location\n",
      "        counter = n.ones((image_shape[0],image_shape[1], 1), dtype=n.single)\n",
      "        print \"counter \",counter.shape\n",
      "        # create voting patches\n",
      "        # This is just a temp patch to help create the probability patches\n",
      "        votes = n.ones((data[0].shape[0],data[0].shape[1],data[0].shape[2],data[2].shape[1]), dtype=n.single)\n",
      "        print \"Votes shape \",votes.shape\n",
      "        assert len(data[2]) == len(locs), \"Location and predicitons dont match up \"+str(len(data[2]))+','+str(len(locs))\n",
      "        for prediction, loc in zip(data[2], locs):\n",
      "            item = votes * prediction.reshape((1,1,prediction.shape[0]))#n.random.random_sample((1,1,num_classes))\n",
      "            print \"Shape of the prediciton patch \",item.shape\n",
      "            #check: votes[:,:,n] all values should be equal\n",
      "            for i in range(0, num_classes): #probably a faster way to do this...\n",
      "                assert n.all(item[:,:,i] == item[0,0,i]), \"Probability not the same across patch for this class\"\n",
      "                assert item[0,0,i] == prediction[i], \"Prediction value has changed \"+str(prediciton[i])+','+str(item[0,0,i])\n",
      "            # assign probabilities in image voter\n",
      "            imageVote[loc[0]:loc[0]+loc[2],loc[1]:loc[1]+loc[2],:] = \\\n",
      "                imageVote[loc[0]:loc[0]+loc[2],loc[1]:loc[1]+loc[2],:] + item\n",
      "            #add up how many patches we've counted at each location\n",
      "            counter[loc[0]:loc[0]+loc[2],loc[1]:loc[1]+loc[2],:] = \\\n",
      "                counter[loc[0]:loc[0]+loc[2],loc[1]:loc[1]+loc[2],:] + 1.0\n",
      "        \n",
      "        # SO: we have a \n",
      "        # * counter where each location is how many patches we've used at that location\n",
      "        # * image where each location is the probability sum across some number of patches...\n",
      "        # First Try: average: image / counter (broadcast across num_classes dimension)\n",
      "        imageAverage = n.divide(imageVote, counter)\n",
      "        #assert imageAverage.shape == image_shape, \"Shapes of image and average not correct: \"+str(imageAverage.shape)\n",
      "        # * now image is probability per class...0-1, so we take the max and assign that index as the label\n",
      "        #imageMax = n.max(imageAverage, axis = 2) # gives us the max values, need indices of these...\n",
      "        imageMax = n.argmax(imageAverage, axis = 2)\n",
      "        #assert imageMax.shape == (imageAverage.shape[0], imageAverage.shape[1]), \\\n",
      "        #    \"Shapes of final max and average not correct: \"+str(imageMax.shape)\n",
      "        print imageMax.shape\n",
      "        #return the image of labels for each pixel\n",
      "        return imageMax"
     ],
     "language": "python",
     "metadata": {},
     "outputs": []
    },
    {
     "cell_type": "code",
     "collapsed": false,
     "input": [
      "'''\n",
      "Test: generate a small image. Generate predictions for each patch. \n",
      "'''\n",
      "image_shape = (28,28,3)\n",
      "#image, label, predicitons\n",
      "data = [numpy.random.random((28,28,3)), \"test_label\", numpy.random.ranf(())]"
     ],
     "language": "python",
     "metadata": {},
     "outputs": []
    }
   ],
   "metadata": {}
  }
 ]
}