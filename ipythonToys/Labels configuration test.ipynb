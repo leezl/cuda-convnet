{
 "metadata": {
  "name": ""
 },
 "nbformat": 3,
 "nbformat_minor": 0,
 "worksheets": [
  {
   "cells": [
    {
     "cell_type": "code",
     "collapsed": false,
     "input": [
      "'''\n",
      "SO:\n",
      "Labels come in many different forms:\n",
      "convnet expects us to hand it an integer per item representing the idx of the class the item belongs to:\n",
      "\n",
      "    Img5 label:7 class_list[7]='Bowl'\n",
      "    \n",
      "This assumes that the items can only belong to one class.\n",
      "My batch making code assumes there are some number of labels: either a text file containing several or \n",
      "the name of the item from the filename.\n",
      "So: it stores a dictionary containing each of the labels and a count (may just be 1)\n",
      "\n",
      "    Img5 labels: {'Bowl': 3, 'red': 2, 'small': 4} class_list=['bowl','red','small','blue','large']\n",
      "    \n",
      "So we want to be able to support both...single labels, and multiple...\n",
      "\n",
      "SO we need to produce labels of this form: \n",
      "label : [1,1,1,0,0] where each item aligns with the class_list\n",
      "\n",
      "* need to make sure class_list never changes order: orderedDict / List\n",
      "* need to check input type for label (dict, list, int), \n",
      "        and chosen label/output type (multi or single),\n",
      "* we cannot convert all of these into any other: if an item is blue and red, \n",
      "    but we are only allowed one label/output class...we could randomly \n",
      "    select which one we count it as, or drop it from training. we should \n",
      "    really know better then to use the wrong data though.\n",
      "    \n",
      "* selected single output word?so if we want to train a network that \n",
      "    predicts one of our labels on its own, then we can do that?\n",
      "'''"
     ],
     "language": "python",
     "metadata": {},
     "outputs": []
    },
    {
     "cell_type": "code",
     "collapsed": false,
     "input": [
      "#first: lets play with a function that takes whatever label format and the label_list, and network output type\n",
      "\n",
      "    '''\n",
      "    Correctly sets up labels: multi word, single range, multiple...\n",
      "    '''\n",
      "    def get_labels_from_file(labels, label_list, multi_output=False):#self, batch):\n",
      "        if multi_output:\n",
      "            if type(labels[0])=='dict':\n",
      "                labelsMid = n.asarray( \\\n",
      "                    [[1 if image[word]>0 else 0 for word in image.keys] for image in labels], \\\n",
      "                    dtype=n.uint8)\n",
      "            elif type(labels[0])=='list':\n",
      "                pass\n",
      "            elif type(labels[0])=='int':\n",
      "                pass\n",
      "            else:\n",
      "                print \"ERROR: unknown label type \",type(labels[0])\n",
      "                sys.exit(0)\n",
      "        else: #single output\n",
      "            if type(labels[0])=='dict':\n",
      "                labelsMid = n.asarray([1 if (self.word in labels[i] and labels[i][self.word]>0) \\\n",
      "                                       else 0 for i in range(0,len(labels))],dtype=n.uint8)\n",
      "            elif type(labels[0])=='list':\n",
      "                #if one is 1 and length of list ==length of label_list, then use it as label\n",
      "                #else error\n",
      "                pass\n",
      "            elif type(labels[0])=='int':\n",
      "                #already correct form, check values: all less than len(label_list)\n",
      "                #check ==integer?\n",
      "                #assert n.all(labels<len(label_list)), \"Label value out of range\"\n",
      "                labelsMid = labels.astype(n.uint8)\n",
      "            else:\n",
      "                print \"ERROR: unknown label type \",type(labels[0])\n",
      "                sys.exit(0)\n",
      "        return labelsMid"
     ],
     "language": "python",
     "metadata": {},
     "outputs": []
    }
   ],
   "metadata": {}
  }
 ]
}